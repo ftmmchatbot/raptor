{
 "cells": [
  {
   "cell_type": "code",
   "execution_count": 4,
   "metadata": {},
   "outputs": [],
   "source": [
    "from langchain_community.document_loaders import DirectoryLoader, PyPDFLoader, TextLoader\n",
    "import glob\n",
    "import os\n",
    "import pandas as pd\n",
    "import getpass\n",
    "import chromadb\n",
    "from langchain_openai import OpenAIEmbeddings"
   ]
  },
  {
   "cell_type": "markdown",
   "metadata": {},
   "source": [
    "jangan pake full knowledges pake 1 file aja biar hemat\" 😊"
   ]
  },
  {
   "cell_type": "code",
   "execution_count": 5,
   "metadata": {},
   "outputs": [],
   "source": [
    "def load_knowledges(path='knowledges'):\n",
    "    docs = list()\n",
    "\n",
    "    txt_files = glob.glob(f'{path}/*.txt')\n",
    "    for txt in txt_files:\n",
    "        loader = TextLoader(txt, autodetect_encoding=True)\n",
    "        docs.extend(loader.load())\n",
    "    pdf_files = glob.glob(f'{path}/*.pdf')\n",
    "    for pdf in pdf_files:\n",
    "        loader = PyPDFLoader(pdf)\n",
    "        docs.extend(loader.load())\n",
    "\n",
    "    return docs\n",
    "docs = load_knowledges()"
   ]
  },
  {
   "cell_type": "code",
   "execution_count": 6,
   "metadata": {},
   "outputs": [],
   "source": [
    "os.environ[\"OPENAI_API_KEY\"] = getpass.getpass()"
   ]
  },
  {
   "cell_type": "code",
   "execution_count": 7,
   "metadata": {},
   "outputs": [],
   "source": [
    "from langchain_text_splitters import CharacterTextSplitter\n",
    "from langchain_chroma import Chroma\n",
    "import uuid"
   ]
  },
  {
   "cell_type": "code",
   "execution_count": 12,
   "metadata": {},
   "outputs": [],
   "source": [
    "def simple_retriever_setup(docs, add_documents=True, delete_existed_collection=False):\n",
    "    collection_name = \"simple\"\n",
    "    # splitting\n",
    "    text_splitter = CharacterTextSplitter.from_tiktoken_encoder(chunk_size=1500, chunk_overlap=500)\n",
    "    chunks = text_splitter.split_documents(docs)\n",
    "\n",
    "    # setup chromadb\n",
    "    client = chromadb.PersistentClient()\n",
    "    if delete_existed_collection:\n",
    "        client.delete_collection(collection_name)\n",
    "    collection = client.get_or_create_collection(name=collection_name, metadata={\"hnsw:space\": \"cosine\"})\n",
    "\n",
    "    # embeddings model\n",
    "    embedding_model = OpenAIEmbeddings()\n",
    "\n",
    "    # add chunks into collection\n",
    "    if add_documents:\n",
    "        ids = [str(uuid.uuid1()) for _ in range(len(chunks))]\n",
    "        documents = [c.page_content for c in chunks]\n",
    "        embeddings = embedding_model.embed_documents(documents)\n",
    "        metadatas = [c.metadata for c in chunks]\n",
    "        collection.add(\n",
    "            ids=ids,\n",
    "            documents=documents,\n",
    "            embeddings=embeddings,\n",
    "            metadatas=metadatas\n",
    "        )\n",
    "\n",
    "    docsearch = Chroma(persist_directory='chroma', collection_name=collection_name, embedding_function=embedding_model)\n",
    "    retriever = docsearch.as_retriever(search_kwargs={\"k\":3}, search_type=\"similarity\")\n",
    "\n",
    "    return retriever"
   ]
  },
  {
   "cell_type": "code",
   "execution_count": 13,
   "metadata": {},
   "outputs": [],
   "source": [
    "retriever = simple_retriever_setup(docs)"
   ]
  },
  {
   "cell_type": "code",
   "execution_count": 16,
   "metadata": {},
   "outputs": [
    {
     "data": {
      "text/plain": [
       "[Document(page_content='b. Menyempurnakan penelitian yang berjalan terus-menerus;\\nc. Bersifat\\tjujur,\\tprofesional, berperikemanusiaan dan memperhatikan faktor-faktor ketepatan, seksama dan cermat, religious, serta tidak mengandung ketimpangan gender;\\nd. Memberikan penemuan yang baru;\\ne. Bermanfaat\\tbagi\\tUNAIR\\tsecara\\tilmiah, institusional, dan finansial.\\nf. Berbasis kompetensi logis; dan\\ng. Mengingat aspek akuntabilitas.\\n\\n2. Hubungan Peneliti dengan Mahasiswa\\n\\nDalam melakukan penelitian, seorang dosen wajib melibatkan mahasiswa sebagai bentuk pemenuhan syarat akademik atau arena pembelajaran, aktualitas kompetensi bidang keilmuan, dan pengembangan pribadi.\\n3. Penelitian Dasar dan Terapan\\n\\nSebagai peneliti, seorang dosen wajib:\\na. Mengarahkan penelitian untuk kemajuan ilmu pengetahuan dan/atau perolehan hak paten untuk mendorong perkembangan industri nasional;\\nb. Meningkatkan ketahanan nasional melalui penggalian sumber daya alam; dan\\nc. Menyinergikan berbagai macam disiplin ilmu.\\n\\n4. Efektivitas dan Biaya Penelitian\\nPeneliti wajib mencermati antara manfaat yang diharapkan dengan biaya dan beban yang dikeluarkan, khususnya beban yang dituntut oleh pihak penyandang dana. Dalam perjanjian dengan penyandang dana, peneliti tidak boleh menjanjikan hal di luar kemampuan peneliti. Selanjutnya, peneliti juga memiliki kewajiban untuk menghasilkan atau memberikan yang telah dijanjikan sebagai luaran penelitian. Selain itu, peneliti wajib menjelaskan mampu atau tidaknya data penelitian berkontribusi dalam proses pengambilan keputusan.\\n5. Kesimpulan Penelitian\\nDosen peneliti dalam prosesnya wajib menjelaskan kepada penyandang dana atas kesimpulan yang diperoleh. Selain itu, peneliti juga memiliki kewajiban untuk membantu dan berpartisipasi dalam interpretasi hasil serta kesimpulan.\\nDalam kesimpulan penelitiannya, peneliti wajib menjelaskan keterbatasan hasil penelitian serta pembeda antara kesimpulan penelitian dan ekstrapolasinya. Selanjutnya, peneliti juga harus menunjukkan kesahihan penelitian yang dilakukan. Pembuktian tersebut berkaitan dengan tanggung jawab peneliti untuk meyakinkan bahwa hasil penelitian dapat dimengerti oleh penyandang dana.\\n\\n6. Kontrak Bagi Hasil\\nSeorang ilmuwan sebagai intelektual dalam menangani kontrak bagi hasil harus bebas dari kepentingan golongan, penguasa, agama, atau partai politik agar pemikiran intelektualnya dapat dibenarkan atas setiap keputusan.\\n7. Plagiarisme\\nPeneliti atau penulis karya ilmiah dilarang melakukan penjiplakan karya ilmiah orang lain dalam bentuk apapun.\\n8. Tanggung Jawab Dosen dalam Bidang Pengabdian pada Masyarakat\\nDalam melaksanakan pengabdian pada masyarakat, seorang dosen memiliki kewajiban sebagai berikut.\\na. Tulus bekerja secara sinergis dengan dosen dari berbagai macam disiplin ilmu;\\nb. Menghargai partisipasi masyarakat dalam menetapkan program-program pengabdian; dan\\nc. Tidak boleh memaksakan kehendaknya kepada masyarakat.\\nSelain kewajiban di atas, dalam kegiatan pengabdian masyarakatnya seorang dosen wajib membimbing mahasiswa sebagai sahabat kerja yang masih memerlukan proses pembelajaran kemasyarakatan. Selain itu, seorang dosen yang melakukan pengabdian masyarakat juga harus berlandaskan aturan berikut.', metadata={'source': 'knowledges\\\\Buku-Pedoman-Berperilaku-Civitas-Academica-UNAIR.txt'}),\n",
       " Document(page_content='6. Kontrak Bagi Hasil\\nSeorang ilmuwan sebagai intelektual dalam menangani kontrak bagi hasil harus bebas dari kepentingan golongan, penguasa, agama, atau partai politik agar pemikiran intelektualnya dapat dibenarkan atas setiap keputusan.\\n7. Plagiarisme\\nPeneliti atau penulis karya ilmiah dilarang melakukan penjiplakan karya ilmiah orang lain dalam bentuk apapun.\\n8. Tanggung Jawab Dosen dalam Bidang Pengabdian pada Masyarakat\\nDalam melaksanakan pengabdian pada masyarakat, seorang dosen memiliki kewajiban sebagai berikut.\\na. Tulus bekerja secara sinergis dengan dosen dari berbagai macam disiplin ilmu;\\nb. Menghargai partisipasi masyarakat dalam menetapkan program-program pengabdian; dan\\nc. Tidak boleh memaksakan kehendaknya kepada masyarakat.\\nSelain kewajiban di atas, dalam kegiatan pengabdian masyarakatnya seorang dosen wajib membimbing mahasiswa sebagai sahabat kerja yang masih memerlukan proses pembelajaran kemasyarakatan. Selain itu, seorang dosen yang melakukan pengabdian masyarakat juga harus berlandaskan aturan berikut.\\n\\na. Merujuk pada kebutuhan masyarakat;\\nb. Mencerminkan kontribusi nyata UNAIR;\\nc. Melakukan pemanfaatan, pendayagunaan, pengembangan ilmu pengetahuan, teknologi, dan seni untuk masyarakat;\\nd. Melibatkan peran serta mahasiswa; dan\\ne. Memberikan pencerahan dan meningkatkan kesejahteraan masyarakat serta bermanfaat bagi segenap civitas academica.\\n9. Publikasi\\nSeorang dosen yang menulis publikasi wajib:\\na. Menggunakan bahasa yang ilmiah;\\nb. Memperoleh izin penyandang dana;\\nc. Memperhatikan penelitian dan peneliti terdahulu;\\nd. Mengutip dengan jujur dan sesuai dengan makna aslinya. Demikian pula untuk komunikasi pribadi yang dipakai dalam publikasi;\\ne. Apabila mengutip gambar dan table, maka sumber harus dicantumkan;\\nf. Apabila menampilkan gambar perorangan atau manusia coba (probandus), maka harus dengan izin. Namun, apabila tidak ingin menampilkan identitas, maka sebagian wajah harus ditutup, terutama mata atau bagian-bagian yang dapat menjadi petunjuk identifikasi;\\ng. Mencantumkan semua kontributor kecuali yang tidak bersedia;\\n\\nh. Memberi pernyataan jasa kepada pemberi gagasan, pemberi izin, fasilitas, dan bantuan lain; dan\\ni. Menghindari berbagai hal yang terkait dengan plagiarisme.\\n\\nB. Aturan Berperilaku Tenaga Kependidikan\\n\\nTenaga Kependidikan (tendik) dalam melaksanakan tugas dan kewajibannya harus mengabdi dan bertanggung jawab penuh. Selain itu, tendik juga harus beriman dan bertakwa kepada Tuhan Yang Maha Esa dengan menjunjung\\tkebenaran, kejujuran, kemanusiaan, dan keadilan berdasarkan nilai-nilai yang terkandung di dalam Pancasila.\\nDalam menjalankan tugasnya, tendik wajib mematuhi koridor hukum. Selain itu, tendik juga harus menjunjung peraturan dan tata tertib yang berlaku di UNAIR, serta wajib menjaga martabat diri dan nama baik UNAIR.\\nSebagai salah satu bagian dari civitas academica, tendik wajib mematuhi dan melaksanakan aturan berperilaku yang telah ditetapkan oleh UNAIR. Aturan berperilaku tersebut meliputi:\\na. Etika terhadap diri sendiri;\\nb. Etika terhadap sesama tenaga kependidikan;\\nc. Etika dalam berorganisasi; dan\\nd. Etika dalam bermasyarakat.\\n\\nEtika tenaga kependidikan terhadap diri sendiri diwujudkan dalam kepatuhan tendik menjalankan ibadah, bersikap santun dan rendah hati, serta proaktif memperluas wawasan dan mengembangkan kemampuan diri sendiri. Selain itu, tendik yang memenuhi etika berperilaku baik terhadap diri sendiri juga harus menolak pemberian (gratifikasi) dalam bentuk apapun yang berkaitan dengan pekerjaan. Tindakan tersebut merupakan salah satu perwujudan\\n\\nbahwa tendik UNAIR menjunjung kejujuran dan kebenaran. Selanjutnya, tendik juga harus bertanggung jawab dalam setiap perbuatannya, menjaga kesehatan jasmani dan rohani, berpenampilan rapi dan sopan, serta senantiasa menjaga keutuhan, keharmonisan, dan kesejahteraan keluarga.', metadata={'source': 'knowledges\\\\Buku-Pedoman-Berperilaku-Civitas-Academica-UNAIR.txt'}),\n",
       " Document(page_content='Selain itu, untuk menjaga nilai integritas, tendik harus menyampaikan laporan kepada atasan apabila terjadi penyimpangan prosedur kerja, tidak melakukan pemalsuan atau penghilangan data informasi kedinasan, bersedia menerima tugas baru, tidak menyebarkan infromasi bohong, menjaga aset dan alat kerja UNAIR, serta berpenampilan sesuai dengan aturan berbusana yang telah ditentukan.\\n\\nPada poin terakhir, tendik wajib memenuhi etika tenaga kependidikan dalam bermasyarakat. Etika tersebut meliputi penghormataan terhadap agama, kepercayaan, budaya, dan adat istiadat orang lain, bersikap toleran, mengutamakan musyawarah dan mufakat dalam menyelesaikan masalah, tidak melakukan tindakan anarkis dan provokatif, menjaga kelestarian dan kebersihan lingkungan sekitar, serta berperan dalam kegiatan kemasyarakatan. Selanjutnya, tendik dalam masyarakat juga harus membudayakan sikap tolong- menolong, gotong-royong, dan menjaga keharmonisan pergaulan di media sosial. Seorang tendik yang menenuhi etika bermasyarakat yang baik juga tidak boleh menyebarkan informasi pribadi orang lain tanpa izin dan menyerbarkan informasi yang belum jelas kebenarannya.\\n\\nC. Aturan Berperilaku Mahasiswa\\n\\nSebagai bagian dari civitas academica, mahasiswa UNAIR memiliki kewajiban sebagai berikut.\\na. Beriman dan bertakwa kepada Tuhan Yang Maha Esa serta menjunjung hukum berdasarkan Pancasila dan Undang-Undang Dasar 1945;\\nb. Memahami dan menjunjung visi, misi, dan tujuan UNAIR;\\nc. Menjaga nama baik, harkat, dan martabat UNAIR;\\nd. Menjunjung moral agama dan tata susila;\\ne. Mengedepankan sikap inklusif;\\nf. Memiliki sikap integritas, intelektualitas, dan responsibilitas yang tinggi;\\ng. Memiliki kepekaan terhadap lingkungan kampus dan luar kampus;\\nh. Menciptakan dan menjunjung kehidupan ilmiah yang kondusif;\\ni. Menghormati dan menciptakan hubungan yang kondusif dengan dosen, tenaga kependidikan, dan sesama mahasiswa;\\nj. Melaksanakan peraturan-peraturan yang berlaku di kampus;\\nk. Mengedepankan semangat membaca dan menulis serta menggunakan informasi elektronik secara bijak dalam bersikap;\\nl. Berpartisipasi aktif dalam berbagai kegiatan kampus, baik akademik maupun nonakademik;\\nm. Menjaga keutuhan peralatan media belajar, kebersihan, dan keindahan kampus;\\nn. Berpakain rapi dan sopan dalam kampus;\\no. Berperilaku jujur, bertutur kata yang sopan, serta saling menghormati; dan\\n\\np. Bersedia menerima sanksi yang ditetapkan atas pelanggaran terhadap peraturan kampus.\\n\\nSelain kewajiban-kewajiban tersebut, mahasiswa UNAIR juga memiliki aturan berperilaku. Setiap mahasiswa dilarang melakukan perbuatan:\\na. Menyontek, yaitu secara sadar/sengaja menggunakan atau mencoba menggunakan bahan- bahan informasi atau alat bantu studi lainnya tanpa izin dari pengawas atau penguji;\\nb. Memalsu, yaitu dengan sengaja mengganti atau mengubah nilai atau transkrip akademik, ijazah, KTM,\\ttugas-tugas\\tdalam\\trangka perkuliahan/tutorial/praktikum/ujian,\\t\\tsurat keterangan, laporan, tanda tangan atau dokumen lain yang menyangkut lingkup kegiatan akademik;\\nc. Melakukan tindak plagiat, yaitu dengan sengaja menggunakan kalimat, data atau karya orang lain sebagai karya sendiri tanpa menyebutkan sumber aslinya dalam suatu kegiatan akademik;\\nd. Memberi hadiah dan/atau mengancam dengan maksud mempengaruhi penilaian terhadap prestasi atau akademik;\\ne. Menggantikan kedudukan orang lain dalam kegiatan akademik atas kehendak diri sendiri;\\nf. Menyuruh orang lain menggantikan kedudukan dalam kegiatan akademik, baik untuk kepentingan sendiri ataupun kepentingan orang lain;\\ng. Bekerja sama tanpa izin saat ujian dengan lisan melalui isyarat ataupun melalui alat elektronik;\\nh. Mengambil soal ujian tanpa izin; dan\\ni. Merokok di lingkungan kampus.', metadata={'source': 'knowledges\\\\Buku-Pedoman-Berperilaku-Civitas-Academica-UNAIR.txt'})]"
      ]
     },
     "execution_count": 16,
     "metadata": {},
     "output_type": "execute_result"
    }
   ],
   "source": [
    "retriever.invoke('teknologi sains data')"
   ]
  },
  {
   "cell_type": "code",
   "execution_count": 19,
   "metadata": {},
   "outputs": [],
   "source": [
    "from langchain_experimental.text_splitter import SemanticChunker"
   ]
  },
  {
   "cell_type": "code",
   "execution_count": 38,
   "metadata": {},
   "outputs": [],
   "source": [
    "# Semantic\n",
    "def semantic_splitting_retriever_setup(docs, add_documents=True, delete_existed_collection=False):\n",
    "    collection_name=\"semantic_splitting\"\n",
    "\n",
    "    # splitting\n",
    "    text_splitter = SemanticChunker(OpenAIEmbeddings())\n",
    "    chunks = text_splitter.split_documents(docs)\n",
    "\n",
    "    # setup chromadb\n",
    "    client = chromadb.PersistentClient()\n",
    "    if delete_existed_collection:\n",
    "        client.delete_collection(collection_name)\n",
    "    collection = client.get_or_create_collection(name=collection_name, metadata={\"hnsw:space\": \"cosine\"})\n",
    "\n",
    "    # embeddings model\n",
    "    embedding_model = OpenAIEmbeddings()\n",
    "\n",
    "    # add chunks into collection\n",
    "    if add_documents:\n",
    "        ids = [str(uuid.uuid1()) for _ in range(len(chunks))]\n",
    "        documents = [c.page_content for c in chunks]\n",
    "        embeddings = embedding_model.embed_documents(documents)\n",
    "        metadatas = [c.metadata for c in chunks]    \n",
    "        collection.add(\n",
    "            ids=ids,\n",
    "            documents=documents,\n",
    "            embeddings=embeddings,\n",
    "            metadatas=metadatas\n",
    "        )\n",
    "\n",
    "    docsearch = Chroma(persist_directory='chroma', collection_name=collection_name, embedding_function=embedding_model)\n",
    "    retriever = docsearch.as_retriever(search_kwargs={\"k\":3}, search_type=\"similarity\")\n",
    "\n",
    "    return retriever    "
   ]
  },
  {
   "cell_type": "code",
   "execution_count": 40,
   "metadata": {},
   "outputs": [],
   "source": [
    "semantic_splitting_retriever = semantic_splitting_retriever_setup(\n",
    "    docs=docs, \n",
    "    delete_existed_collection=True\n",
    ")"
   ]
  },
  {
   "cell_type": "code",
   "execution_count": 41,
   "metadata": {},
   "outputs": [
    {
     "data": {
      "text/plain": [
       "[Document(page_content='Menghargai penemuan dan pendapat akademisi lain; dan\\nc. Tidak semata-mata untuk kepentingan pribadi. Kedua, seorang dosen wajib menjunjung kebebasan mimbar akademik, yaitu kebebasan menyampaikan pikiran dan pendapat dalam lingkungan serta forum akademik dalam bentuk ceramah, seminar, dan kegiatan ilmiah lainnya sesuai dengan norma serta kaidah keilmuan. Seorang dosen juga memiliki kewajiban untuk selalu mawas diri dan mengevaluasi kinerja sebagai dosen dalam upayanya membina dan mengembangkan karier akademik dan profesi. Ketiga, seorang dosen wajib menumbuhkembangkan suasana akademik di lingkungan kerjanya. Dalam berkomunikasi, baik secara lisan maupun tertulis, dosen menggunakan bahasa yang sopan dan santun, tidak emosional, berpikir jernih, serta tidak menyinggung perasaan orang lain. Keempat, seorang dosen wajib memelihara dan menumbuhkembangkan masyarakat akademik antardosen, yaitu:\\na. Memegang teguh dan menghormati hak dan kebebasan akademik serta hak kebebasan mimbar akademik antardosen;\\n\\nb. Menghayati dasar-dasar kemasyarakatan dalam penyelenggaraan universitas dalam bentuk tugas sosial dengan ikut serta menyelenggarakan usaha membangun, memelihara, dan mengembangkan hidup kemasyarakatan serta kebudayaan; dan\\nc. Menghayati dasar-dasar kekeluargaan dalam penyelenggaraan universitas berdasarkan Statuta UNAIR. Di samping menjaga kebebasan akademik, secara pribadi seorang dosen wajib menjaga kelestarian keutuhan rumah tangga, keharmonisan dan kesejahteraan rumah tangga, serta reputasi sosial di masyarakat. 1. Kewajiban Dosen Terhadap UNAIR\\nKewajiban dosen terhadap almamater meliputi: menjunjung asas, visi, misi, dan tujuan UNAIR. Selain itu, dosen juga wajib menjunjung, menghayati, dan mengamalkan Tridarma Perguruan Tinggi. Profesionalisme menuntut dosen untuk menjunjung hak mengajar yang diberikan kepadanya sebagai seorang pendidik yang diwujudkan dalam bentuk perilaku dan keteladanan, yaitu:\\na. Mengajar dan memberikan layanan akademik dengan cara terbaik menurut kemampuannya serta penuh dedikasi, disiplin, dan kearifan;\\nb. Menjauhi  dan  menghindari  hal-hal  yang\\n\\npertentangan kepentingan pribadi dalam menjalankan tugas dan jabatannya;\\nc. Menjauhi dan menghindarkan diri dari hal- hal dan perbuatan yang dapat menurunkan derajat dan martabat dosen sebagai profesi pendidik yang terhormat;\\nd. Memberikan motivasi kepada anak didik sehingga dapat merangsang daya pikir. Profesionalisme tersebut juga harus diwujudkan dalam pemberian bimbingan dan layanan informasi yang diperlukan oleh mahasiswa dalam rangka memperlancar penyelesaian studi dengan penuh kearifan. Peningkatan karier akademik juga menuntut peningkatan performa dosen, di antaranya jabatan guru besar yang memiliki kewajiban membimbing sebagai promotor sesuai penugasan. Kewajiban selanjutnya yang harus dilakukan dosen terhadap almamater adalah kewajiban melaksanakan penelitian. Dalam melaksanakan penelitian, seorang dosen wajib memenuhi aturan berikut. a. Bersikap dan berpikir analitis dan kritis;\\nb. Jujur, objektif, dan berpegang teguh pada semua aspek proses penelitian serta tidak boleh memalsukan atau memanipulasi data maupun hasil penelitian;\\nc. Menghindari kesalahan dalam penelitian, terutama dalam menyajikan hasil penelitian;\\n\\nd. Bersifat terbuka, saling berbagi data, hasil, metode, dan gagasan yang lain, kecuali data yang dapat dipatenkan;\\ne. Memperlakukan teman sejawat dengan sopan; dan\\nf. Menghormati dan menghargai objek penelitian, baik yang berupa manusia maupun hewan, baik yang hidup maupun yang sudah mati, atau bagian/fragmen dari manusia/hewan penelitian tersebut. Peneliti bertanggung jawab untuk memberikan pemahaman atas penelitian dengan melakukan interpretasi hasil dan kesimpulan penelitian supaya hasil penelitian dapat dimengerti. Selain itu, peneliti juga bertanggung jawab pada rekan seprofesinya. Selanjutnya, peneliti dalam penelitiannya wajib menunjukkan kelemahan dan kelebihan hasil penelitian secara proporsional. Selain itu, peneliti juga berkewajiban menjelaskan secara eksplisit manfaat yang diperoleh subjek penelitian dan menghasilkan luaran penelitian sesuai dengan kapasitas penelitian. Kewajiban yang dipaparkan di atas juga harus berkesinambungan dengan syarat penelitian. Adapun syarat karya penelitian adalah sebagai berikut. a. Bersifat ilmiah, yaitu fakta diperoleh secara objektif serta melalui prosedur yang sistematis dengan menggunakan pembuktian sahih;\\n\\nb. Menyempurnakan penelitian yang berjalan terus-menerus;\\nc. Bersifat\\tjujur,\\tprofesional, berperikemanusiaan dan memperhatikan faktor-faktor ketepatan, seksama dan cermat, religious, serta tidak mengandung ketimpangan gender;\\nd. Memberikan penemuan yang baru;\\ne. Bermanfaat\\tbagi\\tUNAIR\\tsecara\\tilmiah, institusional, dan finansial. f.', metadata={'source': 'knowledges\\\\Buku-Pedoman-Berperilaku-Civitas-Academica-UNAIR.txt'}),\n",
       " Document(page_content='Plagiarisme\\nPeneliti atau penulis karya ilmiah dilarang melakukan penjiplakan karya ilmiah orang lain dalam bentuk apapun. 8. Tanggung Jawab Dosen dalam Bidang Pengabdian pada Masyarakat\\nDalam melaksanakan pengabdian pada masyarakat, seorang dosen memiliki kewajiban sebagai berikut. a. Tulus bekerja secara sinergis dengan dosen dari berbagai macam disiplin ilmu;\\nb. Menghargai partisipasi masyarakat dalam menetapkan program-program pengabdian; dan\\nc. Tidak boleh memaksakan kehendaknya kepada masyarakat. Selain kewajiban di atas, dalam kegiatan pengabdian masyarakatnya seorang dosen wajib membimbing mahasiswa sebagai sahabat kerja yang masih memerlukan proses pembelajaran kemasyarakatan. Selain itu, seorang dosen yang melakukan pengabdian masyarakat juga harus berlandaskan aturan berikut. a.', metadata={'source': 'knowledges\\\\Buku-Pedoman-Berperilaku-Civitas-Academica-UNAIR.txt'}),\n",
       " Document(page_content='2. Hubungan Peneliti dengan Mahasiswa\\n\\nDalam melakukan penelitian, seorang dosen wajib melibatkan mahasiswa sebagai bentuk pemenuhan syarat akademik atau arena pembelajaran, aktualitas kompetensi bidang keilmuan, dan pengembangan pribadi. 3. Penelitian Dasar dan Terapan\\n\\nSebagai peneliti, seorang dosen wajib:\\na. Mengarahkan penelitian untuk kemajuan ilmu pengetahuan dan/atau perolehan hak paten untuk mendorong perkembangan industri nasional;\\nb. Meningkatkan ketahanan nasional melalui penggalian sumber daya alam; dan\\nc. Menyinergikan berbagai macam disiplin ilmu.', metadata={'source': 'knowledges\\\\Buku-Pedoman-Berperilaku-Civitas-Academica-UNAIR.txt'})]"
      ]
     },
     "execution_count": 41,
     "metadata": {},
     "output_type": "execute_result"
    }
   ],
   "source": [
    "semantic_splitting_retriever.invoke('dosen')"
   ]
  },
  {
   "cell_type": "code",
   "execution_count": null,
   "metadata": {},
   "outputs": [],
   "source": []
  }
 ],
 "metadata": {
  "kernelspec": {
   "display_name": "env",
   "language": "python",
   "name": "python3"
  },
  "language_info": {
   "codemirror_mode": {
    "name": "ipython",
    "version": 3
   },
   "file_extension": ".py",
   "mimetype": "text/x-python",
   "name": "python",
   "nbconvert_exporter": "python",
   "pygments_lexer": "ipython3",
   "version": "3.10.7"
  }
 },
 "nbformat": 4,
 "nbformat_minor": 2
}
